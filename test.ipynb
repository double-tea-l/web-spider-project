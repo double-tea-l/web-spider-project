{
 "cells": [
  {
   "cell_type": "code",
   "execution_count": 9,
   "metadata": {},
   "outputs": [
    {
     "name": "stdout",
     "output_type": "stream",
     "text": [
      "Mozilla/5.0 (Windows NT 6.3; WOW64) AppleWebKit/537.36 (KHTML, like Gecko) Chrome/41.0.2225.0 Safari/537.36\n",
      "Mozilla/5.0 (X11; CrOS i686 4319.74.0) AppleWebKit/537.36 (KHTML, like Gecko) Chrome/29.0.1547.57 Safari/537.36\n"
     ]
    }
   ],
   "source": [
    "from fake_useragent import UserAgent\n",
    "#实例化一个对象\n",
    "ua = UserAgent()\n",
    "#随机获取一个ie浏览器ua\n",
    "print(ua.chrome)\n",
    "print(ua.chrome)"
   ]
  },
  {
   "cell_type": "code",
   "execution_count": 10,
   "metadata": {},
   "outputs": [],
   "source": [
    "from urllib import request\n",
    "from urllib import parse\n",
    "# 拼接URL地址\n",
    "def get_url(word):\n",
    "  url = 'http://www.baidu.com/s?{}'\n",
    "  #此处使用urlencode()进行编码\n",
    "  params = parse.urlencode({'wd':word})\n",
    "  url = url.format(params)\n",
    "  return url\n",
    "# 发请求,保存本地文件\n",
    "def request_url(url,filename):\n",
    "  headers = {'User-Agent':'Mozilla/5.0 (Windows NT 6.1; WOW64; rv:6.0) Gecko/20100101 Firefox/6.0'}\n",
    "  # 请求对象 + 响应对象 + 提取内容\n",
    "  req = request.Request(url=url,headers=headers)\n",
    "  res = request.urlopen(req)\n",
    "  html = res.read().decode('utf-8')\n",
    "  # 保存文件至本地\n",
    "  with open(filename,'w',encoding='utf-8') as f:\n",
    "    f.write(html)\n",
    "# 主程序入口\n",
    "if __name__ == '__main__':\n",
    "  word = input('请输入搜索内容:')\n",
    "  url = get_url(word)\n",
    "  filename = word + '.html'\n",
    "  request_url(url,filename)"
   ]
  }
 ],
 "metadata": {
  "kernelspec": {
   "display_name": "Python 3.7.3 ('base')",
   "language": "python",
   "name": "python3"
  },
  "language_info": {
   "codemirror_mode": {
    "name": "ipython",
    "version": 3
   },
   "file_extension": ".py",
   "mimetype": "text/x-python",
   "name": "python",
   "nbconvert_exporter": "python",
   "pygments_lexer": "ipython3",
   "version": "3.7.3"
  },
  "orig_nbformat": 4,
  "vscode": {
   "interpreter": {
    "hash": "b0c0756498af6d4efb4041862dc390b7bc6cbd952a93da867cbbb16b14c2a97c"
   }
  }
 },
 "nbformat": 4,
 "nbformat_minor": 2
}
